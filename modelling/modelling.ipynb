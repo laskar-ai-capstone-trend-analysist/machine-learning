{
 "cells": [
  {
   "cell_type": "markdown",
   "id": "de1f4009",
   "metadata": {},
   "source": [
    "# Import Libraries"
   ]
  },
  {
   "cell_type": "code",
   "execution_count": 1,
   "id": "95b169b7",
   "metadata": {},
   "outputs": [
    {
     "name": "stderr",
     "output_type": "stream",
     "text": [
      "2025-06-01 12:16:45.436550: E external/local_xla/xla/stream_executor/cuda/cuda_fft.cc:467] Unable to register cuFFT factory: Attempting to register factory for plugin cuFFT when one has already been registered\n",
      "WARNING: All log messages before absl::InitializeLog() is called are written to STDERR\n",
      "E0000 00:00:1748755005.448920  187304 cuda_dnn.cc:8579] Unable to register cuDNN factory: Attempting to register factory for plugin cuDNN when one has already been registered\n",
      "E0000 00:00:1748755005.452487  187304 cuda_blas.cc:1407] Unable to register cuBLAS factory: Attempting to register factory for plugin cuBLAS when one has already been registered\n",
      "W0000 00:00:1748755005.463244  187304 computation_placer.cc:177] computation placer already registered. Please check linkage and avoid linking the same target more than once.\n",
      "W0000 00:00:1748755005.463266  187304 computation_placer.cc:177] computation placer already registered. Please check linkage and avoid linking the same target more than once.\n",
      "W0000 00:00:1748755005.463268  187304 computation_placer.cc:177] computation placer already registered. Please check linkage and avoid linking the same target more than once.\n",
      "W0000 00:00:1748755005.463269  187304 computation_placer.cc:177] computation placer already registered. Please check linkage and avoid linking the same target more than once.\n",
      "2025-06-01 12:16:45.466705: I tensorflow/core/platform/cpu_feature_guard.cc:210] This TensorFlow binary is optimized to use available CPU instructions in performance-critical operations.\n",
      "To enable the following instructions: AVX2 FMA, in other operations, rebuild TensorFlow with the appropriate compiler flags.\n",
      "/home/ajusd/anaconda3/envs/py310/lib/python3.10/site-packages/requests/__init__.py:86: RequestsDependencyWarning: Unable to find acceptable character detection dependency (chardet or charset_normalizer).\n",
      "  warnings.warn(\n"
     ]
    }
   ],
   "source": [
    "import pandas as pd\n",
    "import os\n",
    "import tensorflow as tf\n",
    "import re\n",
    "import string\n",
    "import numpy as np\n",
    "from datetime import datetime, timedelta\n",
    "from dateutil.relativedelta import relativedelta\n",
    "from tensorflow.keras.layers import Input, Dropout, Dense\n",
    "from tensorflow.keras.models import Model\n",
    "import nltk\n",
    "from nltk.tokenize import word_tokenize\n",
    "from nltk.corpus import stopwords\n",
    "from Sastrawi.Stemmer.StemmerFactory import StemmerFactory\n",
    "import requests\n",
    "import csv\n",
    "from io import StringIO\n",
    "from sklearn.utils import resample\n",
    "from imblearn.under_sampling import RandomUnderSampler\n",
    "from sklearn.feature_extraction.text import TfidfVectorizer\n",
    "from sklearn.model_selection import train_test_split\n",
    "from sklearn.metrics import accuracy_score\n",
    "from sklearn.metrics import confusion_matrix, classification_report\n",
    "import matplotlib.pyplot as plt\n",
    "import seaborn as sns\n",
    "from rapidfuzz import process\n",
    "from tensorflow.keras.preprocessing.text import Tokenizer\n",
    "from tensorflow.keras.preprocessing.sequence import pad_sequences\n",
    "from sklearn.preprocessing import LabelEncoder\n",
    "from tensorflow.keras.losses import SparseCategoricalCrossentropy\n",
    "from custom_layers import TokenAndPositionEmbedding, TransformerBlock\n",
    "from utils import data_loading, data_prep, balance_df, load_config"
   ]
  },
  {
   "cell_type": "code",
   "execution_count": 2,
   "id": "ce6e1a2d",
   "metadata": {},
   "outputs": [],
   "source": [
    "config = load_config()\n",
    "\n",
    "# Access hyperparameters\n",
    "dataset_ver = config['dataset']['version']\n",
    "maxlen = config['tokenizer']['maxlen']\n",
    "vocab_size = config['tokenizer']['vocab_size']\n",
    "\n",
    "num_transformer_blocks = config['model']['num_transformer_blocks']\n",
    "embed_dim = config['model']['embed_dim']\n",
    "num_heads = config['model']['num_heads']\n",
    "ff_dim = config['model']['ff_dim']\n",
    "dense_units = config['model']['dense_units']\n",
    "num_classes = config['model']['num_classes']\n",
    "\n",
    "dropout1_rate = config['dropout']['dropout1_rate']\n",
    "dropout2_rate = config['dropout']['dropout2_rate']\n",
    "dropout3_rate = config['dropout']['dropout3_rate']\n",
    "\n",
    "root_path = \"\"\n",
    "if dataset_ver == 2:\n",
    "    root_path = \"../data_preprocessing/dataset_preprocessed_v2\"\n",
    "else:\n",
    "    root_path = \"../data_preprocessing/dataset_preprocessed\""
   ]
  },
  {
   "cell_type": "code",
   "execution_count": 3,
   "id": "b409fc29",
   "metadata": {},
   "outputs": [
    {
     "name": "stdout",
     "output_type": "stream",
     "text": [
      "['Elektronik', 'Aksesoris', 'Kesehatan', 'Kecantikan', 'Alas_kaki', 'Pakaian_Pria', 'Pakaian_Wanita']\n"
     ]
    }
   ],
   "source": [
    "# List all CSV files in the folder\n",
    "category_names = [f for f in os.listdir(root_path)]\n",
    "\n",
    "print(category_names)"
   ]
  },
  {
   "cell_type": "code",
   "execution_count": 4,
   "id": "5cf8179a",
   "metadata": {},
   "outputs": [
    {
     "name": "stdout",
     "output_type": "stream",
     "text": [
      "\n",
      "Total combined rows of Elektronik: 4223\n",
      "\n",
      "Total combined rows of Aksesoris: 5515\n",
      "\n",
      "Total combined rows of Kesehatan: 783\n",
      "\n",
      "Total combined rows of Kecantikan: 8654\n",
      "\n",
      "Total combined rows of Alas_kaki: 3977\n",
      "\n",
      "Total combined rows of Pakaian_Pria: 5699\n",
      "\n",
      "Total combined rows of Pakaian_Wanita: 6411\n"
     ]
    }
   ],
   "source": [
    "all_dfs = {\n",
    "    name: data_loading(root_path, category)\n",
    "    for name, category in zip(category_names, category_names)\n",
    "}"
   ]
  },
  {
   "cell_type": "markdown",
   "id": "b416e3c3",
   "metadata": {},
   "source": [
    "# Data Preparation"
   ]
  },
  {
   "cell_type": "markdown",
   "id": "c6bf652b",
   "metadata": {},
   "source": [
    "### Checking the label distribution"
   ]
  },
  {
   "cell_type": "code",
   "execution_count": 5,
   "id": "bfebd066",
   "metadata": {},
   "outputs": [
    {
     "name": "stdout",
     "output_type": "stream",
     "text": [
      "Category: Elektronik\n",
      "label\n",
      "positive    3169\n",
      "neutral      993\n",
      "negative      61\n",
      "Name: count, dtype: int64\n",
      "Category: Aksesoris\n",
      "label\n",
      "positive    3311\n",
      "neutral     2112\n",
      "negative      92\n",
      "Name: count, dtype: int64\n",
      "Category: Kesehatan\n",
      "label\n",
      "positive    528\n",
      "neutral     233\n",
      "negative     22\n",
      "Name: count, dtype: int64\n",
      "Category: Kecantikan\n",
      "label\n",
      "positive    4754\n",
      "neutral     3642\n",
      "negative     258\n",
      "Name: count, dtype: int64\n",
      "Category: Alas_kaki\n",
      "label\n",
      "positive    2472\n",
      "neutral     1431\n",
      "negative      74\n",
      "Name: count, dtype: int64\n",
      "Category: Pakaian_Pria\n",
      "label\n",
      "positive    3379\n",
      "neutral     2139\n",
      "negative     181\n",
      "Name: count, dtype: int64\n",
      "Category: Pakaian_Wanita\n",
      "label\n",
      "positive    3429\n",
      "neutral     2585\n",
      "negative     397\n",
      "Name: count, dtype: int64\n"
     ]
    }
   ],
   "source": [
    "for name, df in all_dfs.items():\n",
    "    print(f\"Category: {name}\")\n",
    "    print(df['label'].value_counts())"
   ]
  },
  {
   "cell_type": "markdown",
   "id": "20811679",
   "metadata": {},
   "source": [
    "### Balancing DF"
   ]
  },
  {
   "cell_type": "code",
   "execution_count": 6,
   "id": "7aebb636",
   "metadata": {},
   "outputs": [
    {
     "name": "stdout",
     "output_type": "stream",
     "text": [
      "Category: Elektronik\n",
      "Random multipliers: Class 0: 1.13, Class 1: 1.11, Class 2: 1.09\n",
      "label\n",
      "neutral     67\n",
      "positive    66\n",
      "negative    61\n",
      "Name: count, dtype: int64\n",
      "Category: Aksesoris\n",
      "Random multipliers: Class 0: 1.34, Class 1: 1.39, Class 2: 1.36\n",
      "label\n",
      "neutral     128\n",
      "positive    125\n",
      "negative     92\n",
      "Name: count, dtype: int64\n",
      "Category: Kesehatan\n",
      "Random multipliers: Class 0: 1.11, Class 1: 1.45, Class 2: 1.48\n",
      "label\n",
      "positive    32\n",
      "neutral     31\n",
      "negative    22\n",
      "Name: count, dtype: int64\n",
      "Category: Kecantikan\n",
      "Random multipliers: Class 0: 1.29, Class 1: 1.48, Class 2: 1.30\n",
      "label\n",
      "neutral     381\n",
      "positive    335\n",
      "negative    258\n",
      "Name: count, dtype: int64\n",
      "Category: Alas_kaki\n",
      "Random multipliers: Class 0: 1.09, Class 1: 1.12, Class 2: 1.33\n",
      "label\n",
      "positive    98\n",
      "neutral     82\n",
      "negative    74\n",
      "Name: count, dtype: int64\n",
      "Category: Pakaian_Pria\n",
      "Random multipliers: Class 0: 1.00, Class 1: 1.03, Class 2: 1.45\n",
      "label\n",
      "positive    262\n",
      "neutral     185\n",
      "negative    181\n",
      "Name: count, dtype: int64\n",
      "Category: Pakaian_Wanita\n",
      "Random multipliers: Class 0: 1.01, Class 1: 1.46, Class 2: 1.22\n",
      "label\n",
      "neutral     580\n",
      "positive    482\n",
      "negative    397\n",
      "Name: count, dtype: int64\n"
     ]
    }
   ],
   "source": [
    "for name, df in all_dfs.items():\n",
    "    print(f\"Category: {name}\")\n",
    "    df = balance_df(df.dropna())\n",
    "    all_dfs[name] = df"
   ]
  },
  {
   "cell_type": "code",
   "execution_count": 7,
   "id": "40372b9d",
   "metadata": {},
   "outputs": [
    {
     "name": "stdout",
     "output_type": "stream",
     "text": [
      "<class 'pandas.core.frame.DataFrame'>\n",
      "RangeIndex: 974 entries, 0 to 973\n",
      "Data columns (total 6 columns):\n",
      " #   Column       Non-Null Count  Dtype \n",
      "---  ------       --------------  ----- \n",
      " 0   rating       974 non-null    object\n",
      " 1   date         974 non-null    object\n",
      " 2   item_id      974 non-null    int64 \n",
      " 3   parsed_date  974 non-null    object\n",
      " 4   text_akhir   974 non-null    object\n",
      " 5   label        974 non-null    object\n",
      "dtypes: int64(1), object(5)\n",
      "memory usage: 45.8+ KB\n"
     ]
    }
   ],
   "source": [
    "all_dfs['Kecantikan'].info()"
   ]
  },
  {
   "cell_type": "markdown",
   "id": "1ab6730e",
   "metadata": {},
   "source": [
    "### Feature Selection"
   ]
  },
  {
   "cell_type": "code",
   "execution_count": 8,
   "id": "d10e8f11",
   "metadata": {},
   "outputs": [
    {
     "name": "stdout",
     "output_type": "stream",
     "text": [
      "<class 'pandas.core.frame.DataFrame'>\n",
      "RangeIndex: 3939 entries, 0 to 3938\n",
      "Data columns (total 6 columns):\n",
      " #   Column       Non-Null Count  Dtype \n",
      "---  ------       --------------  ----- \n",
      " 0   rating       3939 non-null   object\n",
      " 1   date         3939 non-null   object\n",
      " 2   item_id      3939 non-null   int64 \n",
      " 3   parsed_date  3939 non-null   object\n",
      " 4   text_akhir   3939 non-null   object\n",
      " 5   label        3939 non-null   object\n",
      "dtypes: int64(1), object(5)\n",
      "memory usage: 184.8+ KB\n"
     ]
    }
   ],
   "source": [
    "combined_df = pd.concat(all_dfs.values(), ignore_index=True)\n",
    "\n",
    "combined_df.info()"
   ]
  },
  {
   "cell_type": "code",
   "execution_count": 9,
   "id": "f69f8ddc",
   "metadata": {},
   "outputs": [],
   "source": [
    "text_pad, tokenizer = data_prep(combined_df, vocab_size, maxlen)"
   ]
  },
  {
   "cell_type": "code",
   "execution_count": 10,
   "id": "d9cc262f",
   "metadata": {},
   "outputs": [
    {
     "name": "stdout",
     "output_type": "stream",
     "text": [
      "[[1823 1824    9 ...    0    0    0]\n",
      " [   2  397    0 ...    0    0    0]\n",
      " [ 322 1197 1198 ...    0    0    0]\n",
      " ...\n",
      " [ 807  403 5141 ...    0    0    0]\n",
      " [  32    2    4 ...    0    0    0]\n",
      " [   2  214 5142 ...    0    0    0]]\n"
     ]
    }
   ],
   "source": [
    "print(text_pad)"
   ]
  },
  {
   "cell_type": "code",
   "execution_count": 11,
   "id": "a595b4bb",
   "metadata": {},
   "outputs": [],
   "source": [
    "X = np.array(text_pad)\n",
    "\n",
    "# Convert labels to integers\n",
    "label_encoder = LabelEncoder()\n",
    "y = label_encoder.fit_transform(combined_df['label'])\n",
    "\n",
    "X_train, X_val, y_train, y_val = train_test_split(X, y, test_size=0.2, random_state=42)"
   ]
  },
  {
   "cell_type": "code",
   "execution_count": 12,
   "id": "8bd7a3a7",
   "metadata": {},
   "outputs": [
    {
     "name": "stdout",
     "output_type": "stream",
     "text": [
      "int32 (3151, 100)\n",
      "int64 (3151,)\n"
     ]
    }
   ],
   "source": [
    "print(X_train.dtype, X_train.shape)\n",
    "print(y_train.dtype, y_train.shape)"
   ]
  },
  {
   "cell_type": "code",
   "execution_count": 13,
   "id": "14b13861",
   "metadata": {},
   "outputs": [
    {
     "name": "stderr",
     "output_type": "stream",
     "text": [
      "I0000 00:00:1748755090.171223  187304 gpu_device.cc:2019] Created device /job:localhost/replica:0/task:0/device:GPU:0 with 2279 MB memory:  -> device: 0, name: NVIDIA GeForce RTX 3050 Laptop GPU, pci bus id: 0000:01:00.0, compute capability: 8.6\n"
     ]
    }
   ],
   "source": [
    "inputs = Input(shape=(maxlen,))\n",
    "embedding_layer = TokenAndPositionEmbedding(maxlen, vocab_size, embed_dim)\n",
    "x = embedding_layer(inputs)\n",
    "x = Dropout(dropout1_rate)(x)  # NEW\n",
    "\n",
    "# Multiple transformer blocks\n",
    "for _ in range(1):\n",
    "    x = TransformerBlock(embed_dim, num_heads, ff_dim)(x)\n",
    "\n",
    "x = tf.keras.layers.GlobalAveragePooling1D()(x)\n",
    "x = Dropout(dropout2_rate)(x)\n",
    "x = tf.keras.layers.BatchNormalization()(x)\n",
    "x = Dense(dense_units, activation='relu', kernel_regularizer=tf.keras.regularizers.l2(1e-4))(x)\n",
    "x = Dropout(dropout3_rate)(x)\n",
    "x = tf.keras.layers.BatchNormalization()(x)\n",
    "outputs = Dense(num_classes, activation='softmax')(x)\n",
    "\n",
    "model = Model(inputs=inputs, outputs=outputs)\n"
   ]
  },
  {
   "cell_type": "code",
   "execution_count": 14,
   "id": "80f25213",
   "metadata": {},
   "outputs": [
    {
     "data": {
      "text/html": [
       "<pre style=\"white-space:pre;overflow-x:auto;line-height:normal;font-family:Menlo,'DejaVu Sans Mono',consolas,'Courier New',monospace\"><span style=\"font-weight: bold\">Model: \"functional_1\"</span>\n",
       "</pre>\n"
      ],
      "text/plain": [
       "\u001b[1mModel: \"functional_1\"\u001b[0m\n"
      ]
     },
     "metadata": {},
     "output_type": "display_data"
    },
    {
     "data": {
      "text/html": [
       "<pre style=\"white-space:pre;overflow-x:auto;line-height:normal;font-family:Menlo,'DejaVu Sans Mono',consolas,'Courier New',monospace\">┏━━━━━━━━━━━━━━━━━━━━━━━━━━━━━━━━━┳━━━━━━━━━━━━━━━━━━━━━━━━┳━━━━━━━━━━━━━━━┓\n",
       "┃<span style=\"font-weight: bold\"> Layer (type)                    </span>┃<span style=\"font-weight: bold\"> Output Shape           </span>┃<span style=\"font-weight: bold\">       Param # </span>┃\n",
       "┡━━━━━━━━━━━━━━━━━━━━━━━━━━━━━━━━━╇━━━━━━━━━━━━━━━━━━━━━━━━╇━━━━━━━━━━━━━━━┩\n",
       "│ input_layer (<span style=\"color: #0087ff; text-decoration-color: #0087ff\">InputLayer</span>)        │ (<span style=\"color: #00d7ff; text-decoration-color: #00d7ff\">None</span>, <span style=\"color: #00af00; text-decoration-color: #00af00\">100</span>)            │             <span style=\"color: #00af00; text-decoration-color: #00af00\">0</span> │\n",
       "├─────────────────────────────────┼────────────────────────┼───────────────┤\n",
       "│ token_and_position_embedding    │ (<span style=\"color: #00d7ff; text-decoration-color: #00d7ff\">None</span>, <span style=\"color: #00af00; text-decoration-color: #00af00\">100</span>, <span style=\"color: #00af00; text-decoration-color: #00af00\">64</span>)        │       <span style=\"color: #00af00; text-decoration-color: #00af00\">390,400</span> │\n",
       "│ (<span style=\"color: #0087ff; text-decoration-color: #0087ff\">TokenAndPositionEmbedding</span>)     │                        │               │\n",
       "├─────────────────────────────────┼────────────────────────┼───────────────┤\n",
       "│ dropout (<span style=\"color: #0087ff; text-decoration-color: #0087ff\">Dropout</span>)               │ (<span style=\"color: #00d7ff; text-decoration-color: #00d7ff\">None</span>, <span style=\"color: #00af00; text-decoration-color: #00af00\">100</span>, <span style=\"color: #00af00; text-decoration-color: #00af00\">64</span>)        │             <span style=\"color: #00af00; text-decoration-color: #00af00\">0</span> │\n",
       "├─────────────────────────────────┼────────────────────────┼───────────────┤\n",
       "│ transformer_block               │ (<span style=\"color: #00d7ff; text-decoration-color: #00d7ff\">None</span>, <span style=\"color: #00af00; text-decoration-color: #00af00\">100</span>, <span style=\"color: #00af00; text-decoration-color: #00af00\">64</span>)        │        <span style=\"color: #00af00; text-decoration-color: #00af00\">41,792</span> │\n",
       "│ (<span style=\"color: #0087ff; text-decoration-color: #0087ff\">TransformerBlock</span>)              │                        │               │\n",
       "├─────────────────────────────────┼────────────────────────┼───────────────┤\n",
       "│ global_average_pooling1d        │ (<span style=\"color: #00d7ff; text-decoration-color: #00d7ff\">None</span>, <span style=\"color: #00af00; text-decoration-color: #00af00\">64</span>)             │             <span style=\"color: #00af00; text-decoration-color: #00af00\">0</span> │\n",
       "│ (<span style=\"color: #0087ff; text-decoration-color: #0087ff\">GlobalAveragePooling1D</span>)        │                        │               │\n",
       "├─────────────────────────────────┼────────────────────────┼───────────────┤\n",
       "│ dropout_4 (<span style=\"color: #0087ff; text-decoration-color: #0087ff\">Dropout</span>)             │ (<span style=\"color: #00d7ff; text-decoration-color: #00d7ff\">None</span>, <span style=\"color: #00af00; text-decoration-color: #00af00\">64</span>)             │             <span style=\"color: #00af00; text-decoration-color: #00af00\">0</span> │\n",
       "├─────────────────────────────────┼────────────────────────┼───────────────┤\n",
       "│ batch_normalization             │ (<span style=\"color: #00d7ff; text-decoration-color: #00d7ff\">None</span>, <span style=\"color: #00af00; text-decoration-color: #00af00\">64</span>)             │           <span style=\"color: #00af00; text-decoration-color: #00af00\">256</span> │\n",
       "│ (<span style=\"color: #0087ff; text-decoration-color: #0087ff\">BatchNormalization</span>)            │                        │               │\n",
       "├─────────────────────────────────┼────────────────────────┼───────────────┤\n",
       "│ dense_2 (<span style=\"color: #0087ff; text-decoration-color: #0087ff\">Dense</span>)                 │ (<span style=\"color: #00d7ff; text-decoration-color: #00d7ff\">None</span>, <span style=\"color: #00af00; text-decoration-color: #00af00\">64</span>)             │         <span style=\"color: #00af00; text-decoration-color: #00af00\">4,160</span> │\n",
       "├─────────────────────────────────┼────────────────────────┼───────────────┤\n",
       "│ dropout_5 (<span style=\"color: #0087ff; text-decoration-color: #0087ff\">Dropout</span>)             │ (<span style=\"color: #00d7ff; text-decoration-color: #00d7ff\">None</span>, <span style=\"color: #00af00; text-decoration-color: #00af00\">64</span>)             │             <span style=\"color: #00af00; text-decoration-color: #00af00\">0</span> │\n",
       "├─────────────────────────────────┼────────────────────────┼───────────────┤\n",
       "│ batch_normalization_1           │ (<span style=\"color: #00d7ff; text-decoration-color: #00d7ff\">None</span>, <span style=\"color: #00af00; text-decoration-color: #00af00\">64</span>)             │           <span style=\"color: #00af00; text-decoration-color: #00af00\">256</span> │\n",
       "│ (<span style=\"color: #0087ff; text-decoration-color: #0087ff\">BatchNormalization</span>)            │                        │               │\n",
       "├─────────────────────────────────┼────────────────────────┼───────────────┤\n",
       "│ dense_3 (<span style=\"color: #0087ff; text-decoration-color: #0087ff\">Dense</span>)                 │ (<span style=\"color: #00d7ff; text-decoration-color: #00d7ff\">None</span>, <span style=\"color: #00af00; text-decoration-color: #00af00\">3</span>)              │           <span style=\"color: #00af00; text-decoration-color: #00af00\">195</span> │\n",
       "└─────────────────────────────────┴────────────────────────┴───────────────┘\n",
       "</pre>\n"
      ],
      "text/plain": [
       "┏━━━━━━━━━━━━━━━━━━━━━━━━━━━━━━━━━┳━━━━━━━━━━━━━━━━━━━━━━━━┳━━━━━━━━━━━━━━━┓\n",
       "┃\u001b[1m \u001b[0m\u001b[1mLayer (type)                   \u001b[0m\u001b[1m \u001b[0m┃\u001b[1m \u001b[0m\u001b[1mOutput Shape          \u001b[0m\u001b[1m \u001b[0m┃\u001b[1m \u001b[0m\u001b[1m      Param #\u001b[0m\u001b[1m \u001b[0m┃\n",
       "┡━━━━━━━━━━━━━━━━━━━━━━━━━━━━━━━━━╇━━━━━━━━━━━━━━━━━━━━━━━━╇━━━━━━━━━━━━━━━┩\n",
       "│ input_layer (\u001b[38;5;33mInputLayer\u001b[0m)        │ (\u001b[38;5;45mNone\u001b[0m, \u001b[38;5;34m100\u001b[0m)            │             \u001b[38;5;34m0\u001b[0m │\n",
       "├─────────────────────────────────┼────────────────────────┼───────────────┤\n",
       "│ token_and_position_embedding    │ (\u001b[38;5;45mNone\u001b[0m, \u001b[38;5;34m100\u001b[0m, \u001b[38;5;34m64\u001b[0m)        │       \u001b[38;5;34m390,400\u001b[0m │\n",
       "│ (\u001b[38;5;33mTokenAndPositionEmbedding\u001b[0m)     │                        │               │\n",
       "├─────────────────────────────────┼────────────────────────┼───────────────┤\n",
       "│ dropout (\u001b[38;5;33mDropout\u001b[0m)               │ (\u001b[38;5;45mNone\u001b[0m, \u001b[38;5;34m100\u001b[0m, \u001b[38;5;34m64\u001b[0m)        │             \u001b[38;5;34m0\u001b[0m │\n",
       "├─────────────────────────────────┼────────────────────────┼───────────────┤\n",
       "│ transformer_block               │ (\u001b[38;5;45mNone\u001b[0m, \u001b[38;5;34m100\u001b[0m, \u001b[38;5;34m64\u001b[0m)        │        \u001b[38;5;34m41,792\u001b[0m │\n",
       "│ (\u001b[38;5;33mTransformerBlock\u001b[0m)              │                        │               │\n",
       "├─────────────────────────────────┼────────────────────────┼───────────────┤\n",
       "│ global_average_pooling1d        │ (\u001b[38;5;45mNone\u001b[0m, \u001b[38;5;34m64\u001b[0m)             │             \u001b[38;5;34m0\u001b[0m │\n",
       "│ (\u001b[38;5;33mGlobalAveragePooling1D\u001b[0m)        │                        │               │\n",
       "├─────────────────────────────────┼────────────────────────┼───────────────┤\n",
       "│ dropout_4 (\u001b[38;5;33mDropout\u001b[0m)             │ (\u001b[38;5;45mNone\u001b[0m, \u001b[38;5;34m64\u001b[0m)             │             \u001b[38;5;34m0\u001b[0m │\n",
       "├─────────────────────────────────┼────────────────────────┼───────────────┤\n",
       "│ batch_normalization             │ (\u001b[38;5;45mNone\u001b[0m, \u001b[38;5;34m64\u001b[0m)             │           \u001b[38;5;34m256\u001b[0m │\n",
       "│ (\u001b[38;5;33mBatchNormalization\u001b[0m)            │                        │               │\n",
       "├─────────────────────────────────┼────────────────────────┼───────────────┤\n",
       "│ dense_2 (\u001b[38;5;33mDense\u001b[0m)                 │ (\u001b[38;5;45mNone\u001b[0m, \u001b[38;5;34m64\u001b[0m)             │         \u001b[38;5;34m4,160\u001b[0m │\n",
       "├─────────────────────────────────┼────────────────────────┼───────────────┤\n",
       "│ dropout_5 (\u001b[38;5;33mDropout\u001b[0m)             │ (\u001b[38;5;45mNone\u001b[0m, \u001b[38;5;34m64\u001b[0m)             │             \u001b[38;5;34m0\u001b[0m │\n",
       "├─────────────────────────────────┼────────────────────────┼───────────────┤\n",
       "│ batch_normalization_1           │ (\u001b[38;5;45mNone\u001b[0m, \u001b[38;5;34m64\u001b[0m)             │           \u001b[38;5;34m256\u001b[0m │\n",
       "│ (\u001b[38;5;33mBatchNormalization\u001b[0m)            │                        │               │\n",
       "├─────────────────────────────────┼────────────────────────┼───────────────┤\n",
       "│ dense_3 (\u001b[38;5;33mDense\u001b[0m)                 │ (\u001b[38;5;45mNone\u001b[0m, \u001b[38;5;34m3\u001b[0m)              │           \u001b[38;5;34m195\u001b[0m │\n",
       "└─────────────────────────────────┴────────────────────────┴───────────────┘\n"
      ]
     },
     "metadata": {},
     "output_type": "display_data"
    },
    {
     "data": {
      "text/html": [
       "<pre style=\"white-space:pre;overflow-x:auto;line-height:normal;font-family:Menlo,'DejaVu Sans Mono',consolas,'Courier New',monospace\"><span style=\"font-weight: bold\"> Total params: </span><span style=\"color: #00af00; text-decoration-color: #00af00\">437,059</span> (1.67 MB)\n",
       "</pre>\n"
      ],
      "text/plain": [
       "\u001b[1m Total params: \u001b[0m\u001b[38;5;34m437,059\u001b[0m (1.67 MB)\n"
      ]
     },
     "metadata": {},
     "output_type": "display_data"
    },
    {
     "data": {
      "text/html": [
       "<pre style=\"white-space:pre;overflow-x:auto;line-height:normal;font-family:Menlo,'DejaVu Sans Mono',consolas,'Courier New',monospace\"><span style=\"font-weight: bold\"> Trainable params: </span><span style=\"color: #00af00; text-decoration-color: #00af00\">436,803</span> (1.67 MB)\n",
       "</pre>\n"
      ],
      "text/plain": [
       "\u001b[1m Trainable params: \u001b[0m\u001b[38;5;34m436,803\u001b[0m (1.67 MB)\n"
      ]
     },
     "metadata": {},
     "output_type": "display_data"
    },
    {
     "data": {
      "text/html": [
       "<pre style=\"white-space:pre;overflow-x:auto;line-height:normal;font-family:Menlo,'DejaVu Sans Mono',consolas,'Courier New',monospace\"><span style=\"font-weight: bold\"> Non-trainable params: </span><span style=\"color: #00af00; text-decoration-color: #00af00\">256</span> (1.00 KB)\n",
       "</pre>\n"
      ],
      "text/plain": [
       "\u001b[1m Non-trainable params: \u001b[0m\u001b[38;5;34m256\u001b[0m (1.00 KB)\n"
      ]
     },
     "metadata": {},
     "output_type": "display_data"
    }
   ],
   "source": [
    "model.compile(optimizer='adam',\n",
    "              loss=tf.keras.losses.SparseCategoricalCrossentropy(),\n",
    "              metrics=['accuracy'])\n",
    "\n",
    "model.summary()"
   ]
  },
  {
   "cell_type": "code",
   "execution_count": 15,
   "id": "b3c0d9ce",
   "metadata": {},
   "outputs": [
    {
     "name": "stdout",
     "output_type": "stream",
     "text": [
      "Epoch 1/100\n"
     ]
    },
    {
     "name": "stderr",
     "output_type": "stream",
     "text": [
      "WARNING: All log messages before absl::InitializeLog() is called are written to STDERR\n",
      "I0000 00:00:1748755120.620043  187551 service.cc:152] XLA service 0x7f305401af70 initialized for platform CUDA (this does not guarantee that XLA will be used). Devices:\n",
      "I0000 00:00:1748755120.620064  187551 service.cc:160]   StreamExecutor device (0): NVIDIA GeForce RTX 3050 Laptop GPU, Compute Capability 8.6\n",
      "2025-06-01 12:18:40.685881: I tensorflow/compiler/mlir/tensorflow/utils/dump_mlir_util.cc:269] disabling MLIR crash reproducer, set env var `MLIR_CRASH_REPRODUCER_DIRECTORY` to enable.\n",
      "I0000 00:00:1748755121.045718  187551 cuda_dnn.cc:529] Loaded cuDNN version 90300\n",
      "2025-06-01 12:18:42.404622: I external/local_xla/xla/stream_executor/cuda/subprocess_compilation.cc:346] ptxas warning : Registers are spilled to local memory in function 'gemm_fusion_dot_28', 128 bytes spill stores, 128 bytes spill loads\n",
      "\n",
      "2025-06-01 12:18:42.793301: I external/local_xla/xla/stream_executor/cuda/subprocess_compilation.cc:346] ptxas warning : Registers are spilled to local memory in function 'gemm_fusion_dot_29', 164 bytes spill stores, 164 bytes spill loads\n",
      "\n",
      "2025-06-01 12:18:42.829285: I external/local_xla/xla/stream_executor/cuda/subprocess_compilation.cc:346] ptxas warning : Registers are spilled to local memory in function 'gemm_fusion_dot_28', 128 bytes spill stores, 128 bytes spill loads\n",
      "\n",
      "2025-06-01 12:18:42.888499: I external/local_xla/xla/stream_executor/cuda/subprocess_compilation.cc:346] ptxas warning : Registers are spilled to local memory in function 'gemm_fusion_dot_28', 400 bytes spill stores, 308 bytes spill loads\n",
      "\n",
      "2025-06-01 12:18:42.957497: I external/local_xla/xla/stream_executor/cuda/subprocess_compilation.cc:346] ptxas warning : Registers are spilled to local memory in function 'gemm_fusion_dot_10', 540 bytes spill stores, 540 bytes spill loads\n",
      "\n",
      "2025-06-01 12:18:43.048327: I external/local_xla/xla/stream_executor/cuda/subprocess_compilation.cc:346] ptxas warning : Registers are spilled to local memory in function 'gemm_fusion_dot_28', 544 bytes spill stores, 412 bytes spill loads\n",
      "\n",
      "2025-06-01 12:18:43.831064: I external/local_xla/xla/stream_executor/cuda/subprocess_compilation.cc:346] ptxas warning : Registers are spilled to local memory in function 'gemm_fusion_dot_29', 540 bytes spill stores, 408 bytes spill loads\n",
      "\n",
      "2025-06-01 12:18:43.944631: I external/local_xla/xla/stream_executor/cuda/subprocess_compilation.cc:346] ptxas warning : Registers are spilled to local memory in function 'gemm_fusion_dot_28', 12 bytes spill stores, 12 bytes spill loads\n",
      "\n",
      "2025-06-01 12:18:44.796046: I external/local_xla/xla/stream_executor/cuda/subprocess_compilation.cc:346] ptxas warning : Registers are spilled to local memory in function 'gemm_fusion_dot_33', 176 bytes spill stores, 176 bytes spill loads\n",
      "\n",
      "2025-06-01 12:18:45.257216: I external/local_xla/xla/stream_executor/cuda/subprocess_compilation.cc:346] ptxas warning : Registers are spilled to local memory in function 'gemm_fusion_dot_32', 224 bytes spill stores, 184 bytes spill loads\n",
      "\n",
      "2025-06-01 12:18:45.690083: I external/local_xla/xla/stream_executor/cuda/subprocess_compilation.cc:346] ptxas warning : Registers are spilled to local memory in function 'gemm_fusion_dot_17', 12 bytes spill stores, 12 bytes spill loads\n",
      "\n",
      "2025-06-01 12:18:45.845489: I external/local_xla/xla/stream_executor/cuda/subprocess_compilation.cc:346] ptxas warning : Registers are spilled to local memory in function 'gemm_fusion_dot_32', 388 bytes spill stores, 388 bytes spill loads\n",
      "\n",
      "2025-06-01 12:18:45.945850: I external/local_xla/xla/stream_executor/cuda/subprocess_compilation.cc:346] ptxas warning : Registers are spilled to local memory in function 'gemm_fusion_dot_33', 176 bytes spill stores, 176 bytes spill loads\n",
      "\n",
      "2025-06-01 12:18:45.987388: I external/local_xla/xla/stream_executor/cuda/subprocess_compilation.cc:346] ptxas warning : Registers are spilled to local memory in function 'gemm_fusion_dot_34', 184 bytes spill stores, 184 bytes spill loads\n",
      "\n",
      "2025-06-01 12:18:46.549590: I external/local_xla/xla/stream_executor/cuda/subprocess_compilation.cc:346] ptxas warning : Registers are spilled to local memory in function 'gemm_fusion_dot_10', 352 bytes spill stores, 352 bytes spill loads\n",
      "\n",
      "2025-06-01 12:18:46.762739: I external/local_xla/xla/stream_executor/cuda/subprocess_compilation.cc:346] ptxas warning : Registers are spilled to local memory in function 'gemm_fusion_dot_4547', 628 bytes spill stores, 628 bytes spill loads\n",
      "\n",
      "2025-06-01 12:18:47.023387: I external/local_xla/xla/stream_executor/cuda/subprocess_compilation.cc:346] ptxas warning : Registers are spilled to local memory in function 'gemm_fusion_dot_34', 844 bytes spill stores, 844 bytes spill loads\n",
      "\n",
      "2025-06-01 12:18:47.189797: I external/local_xla/xla/stream_executor/cuda/subprocess_compilation.cc:346] ptxas warning : Registers are spilled to local memory in function 'gemm_fusion_dot_19', 620 bytes spill stores, 620 bytes spill loads\n",
      "\n",
      "2025-06-01 12:18:47.424814: I external/local_xla/xla/stream_executor/cuda/subprocess_compilation.cc:346] ptxas warning : Registers are spilled to local memory in function 'gemm_fusion_dot_34', 128 bytes spill stores, 128 bytes spill loads\n",
      "\n",
      "2025-06-01 12:18:47.960478: I external/local_xla/xla/stream_executor/cuda/subprocess_compilation.cc:346] ptxas warning : Registers are spilled to local memory in function 'gemm_fusion_dot_4005', 180 bytes spill stores, 180 bytes spill loads\n",
      "\n",
      "2025-06-01 12:18:47.997100: I external/local_xla/xla/stream_executor/cuda/subprocess_compilation.cc:346] ptxas warning : Registers are spilled to local memory in function 'gemm_fusion_dot_19', 120 bytes spill stores, 120 bytes spill loads\n",
      "\n",
      "2025-06-01 12:18:48.078501: I external/local_xla/xla/stream_executor/cuda/subprocess_compilation.cc:346] ptxas warning : Registers are spilled to local memory in function 'gemm_fusion_dot_34', 20 bytes spill stores, 20 bytes spill loads\n",
      "\n",
      "2025-06-01 12:18:48.339576: I external/local_xla/xla/stream_executor/cuda/subprocess_compilation.cc:346] ptxas warning : Registers are spilled to local memory in function 'gemm_fusion_dot_4547', 124 bytes spill stores, 124 bytes spill loads\n",
      "\n",
      "2025-06-01 12:18:48.583540: I external/local_xla/xla/stream_executor/cuda/subprocess_compilation.cc:346] ptxas warning : Registers are spilled to local memory in function 'gemm_fusion_dot_4005', 180 bytes spill stores, 180 bytes spill loads\n",
      "\n",
      "2025-06-01 12:18:48.627981: I external/local_xla/xla/stream_executor/cuda/subprocess_compilation.cc:346] ptxas warning : Registers are spilled to local memory in function 'gemm_fusion_dot_19', 120 bytes spill stores, 120 bytes spill loads\n",
      "\n",
      "2025-06-01 12:18:48.955355: I external/local_xla/xla/stream_executor/cuda/subprocess_compilation.cc:346] ptxas warning : Registers are spilled to local memory in function 'gemm_fusion_dot_34', 844 bytes spill stores, 844 bytes spill loads\n",
      "\n",
      "2025-06-01 12:18:49.054514: I external/local_xla/xla/stream_executor/cuda/subprocess_compilation.cc:346] ptxas warning : Registers are spilled to local memory in function 'gemm_fusion_dot_4547', 124 bytes spill stores, 124 bytes spill loads\n",
      "\n",
      "2025-06-01 12:18:49.192143: I external/local_xla/xla/stream_executor/cuda/subprocess_compilation.cc:346] ptxas warning : Registers are spilled to local memory in function 'gemm_fusion_dot_19', 620 bytes spill stores, 620 bytes spill loads\n",
      "\n",
      "2025-06-01 12:18:49.742700: I external/local_xla/xla/stream_executor/cuda/subprocess_compilation.cc:346] ptxas warning : Registers are spilled to local memory in function 'gemm_fusion_dot_34', 128 bytes spill stores, 128 bytes spill loads\n",
      "\n"
     ]
    },
    {
     "name": "stdout",
     "output_type": "stream",
     "text": [
      "\u001b[1m39/99\u001b[0m \u001b[32m━━━━━━━\u001b[0m\u001b[37m━━━━━━━━━━━━━\u001b[0m \u001b[1m0s\u001b[0m 4ms/step - accuracy: 0.3408 - loss: 1.6577"
     ]
    },
    {
     "name": "stderr",
     "output_type": "stream",
     "text": [
      "I0000 00:00:1748755135.631849  187551 device_compiler.h:188] Compiled cluster using XLA!  This line is logged at most once for the lifetime of the process.\n"
     ]
    },
    {
     "name": "stdout",
     "output_type": "stream",
     "text": [
      "\u001b[1m89/99\u001b[0m \u001b[32m━━━━━━━━━━━━━━━━━\u001b[0m\u001b[37m━━━\u001b[0m \u001b[1m0s\u001b[0m 4ms/step - accuracy: 0.3496 - loss: 1.6202"
     ]
    },
    {
     "name": "stderr",
     "output_type": "stream",
     "text": [
      "2025-06-01 12:18:57.745016: I external/local_xla/xla/stream_executor/cuda/subprocess_compilation.cc:346] ptxas warning : Registers are spilled to local memory in function 'gemm_fusion_dot_28', 80 bytes spill stores, 80 bytes spill loads\n",
      "\n",
      "2025-06-01 12:18:57.898072: I external/local_xla/xla/stream_executor/cuda/subprocess_compilation.cc:346] ptxas warning : Registers are spilled to local memory in function 'gemm_fusion_dot_28', 12 bytes spill stores, 12 bytes spill loads\n",
      "\n",
      "2025-06-01 12:18:58.136237: I external/local_xla/xla/stream_executor/cuda/subprocess_compilation.cc:346] ptxas warning : Registers are spilled to local memory in function 'gemm_fusion_dot_28', 400 bytes spill stores, 308 bytes spill loads\n",
      "\n",
      "2025-06-01 12:18:58.995556: I external/local_xla/xla/stream_executor/cuda/subprocess_compilation.cc:346] ptxas warning : Registers are spilled to local memory in function 'gemm_fusion_dot_10', 312 bytes spill stores, 312 bytes spill loads\n",
      "\n",
      "2025-06-01 12:18:59.029336: I external/local_xla/xla/stream_executor/cuda/subprocess_compilation.cc:346] ptxas warning : Registers are spilled to local memory in function 'gemm_fusion_dot_29', 164 bytes spill stores, 164 bytes spill loads\n",
      "\n",
      "2025-06-01 12:18:59.045318: I external/local_xla/xla/stream_executor/cuda/subprocess_compilation.cc:346] ptxas warning : Registers are spilled to local memory in function 'gemm_fusion_dot_28', 532 bytes spill stores, 400 bytes spill loads\n",
      "\n",
      "2025-06-01 12:18:59.313920: I external/local_xla/xla/stream_executor/cuda/subprocess_compilation.cc:346] ptxas warning : Registers are spilled to local memory in function 'gemm_fusion_dot_29', 540 bytes spill stores, 408 bytes spill loads\n",
      "\n",
      "2025-06-01 12:19:00.719927: I external/local_xla/xla/stream_executor/cuda/subprocess_compilation.cc:346] ptxas warning : Registers are spilled to local memory in function 'gemm_fusion_dot_10', 352 bytes spill stores, 352 bytes spill loads\n",
      "\n",
      "2025-06-01 12:19:00.769446: I external/local_xla/xla/stream_executor/cuda/subprocess_compilation.cc:346] ptxas warning : Registers are spilled to local memory in function 'gemm_fusion_dot_32', 224 bytes spill stores, 184 bytes spill loads\n",
      "\n",
      "2025-06-01 12:19:01.359732: I external/local_xla/xla/stream_executor/cuda/subprocess_compilation.cc:346] ptxas warning : Registers are spilled to local memory in function 'gemm_fusion_dot_34', 20 bytes spill stores, 20 bytes spill loads\n",
      "\n",
      "2025-06-01 12:19:01.723125: I external/local_xla/xla/stream_executor/cuda/subprocess_compilation.cc:346] ptxas warning : Registers are spilled to local memory in function 'gemm_fusion_dot_34', 128 bytes spill stores, 128 bytes spill loads\n",
      "\n",
      "2025-06-01 12:19:02.019751: I external/local_xla/xla/stream_executor/cuda/subprocess_compilation.cc:346] ptxas warning : Registers are spilled to local memory in function 'gemm_fusion_dot_33', 176 bytes spill stores, 176 bytes spill loads\n",
      "\n",
      "2025-06-01 12:19:02.281892: I external/local_xla/xla/stream_executor/cuda/subprocess_compilation.cc:346] ptxas warning : Registers are spilled to local memory in function 'gemm_fusion_dot_19', 620 bytes spill stores, 620 bytes spill loads\n",
      "\n",
      "2025-06-01 12:19:02.635362: I external/local_xla/xla/stream_executor/cuda/subprocess_compilation.cc:346] ptxas warning : Registers are spilled to local memory in function 'gemm_fusion_dot_17', 12 bytes spill stores, 12 bytes spill loads\n",
      "\n",
      "2025-06-01 12:19:02.759713: I external/local_xla/xla/stream_executor/cuda/subprocess_compilation.cc:346] ptxas warning : Registers are spilled to local memory in function 'gemm_fusion_dot_34', 844 bytes spill stores, 844 bytes spill loads\n",
      "\n",
      "2025-06-01 12:19:02.937572: I external/local_xla/xla/stream_executor/cuda/subprocess_compilation.cc:346] ptxas warning : Registers are spilled to local memory in function 'gemm_fusion_dot_32', 388 bytes spill stores, 388 bytes spill loads\n",
      "\n",
      "2025-06-01 12:19:03.261141: I external/local_xla/xla/stream_executor/cuda/subprocess_compilation.cc:346] ptxas warning : Registers are spilled to local memory in function 'gemm_fusion_dot_4005', 180 bytes spill stores, 180 bytes spill loads\n",
      "\n",
      "2025-06-01 12:19:04.056672: I external/local_xla/xla/stream_executor/cuda/subprocess_compilation.cc:346] ptxas warning : Registers are spilled to local memory in function 'gemm_fusion_dot_19', 120 bytes spill stores, 120 bytes spill loads\n",
      "\n",
      "2025-06-01 12:19:04.067263: I external/local_xla/xla/stream_executor/cuda/subprocess_compilation.cc:346] ptxas warning : Registers are spilled to local memory in function 'gemm_fusion_dot_4005', 180 bytes spill stores, 180 bytes spill loads\n",
      "\n",
      "2025-06-01 12:19:04.074334: I external/local_xla/xla/stream_executor/cuda/subprocess_compilation.cc:346] ptxas warning : Registers are spilled to local memory in function 'gemm_fusion_dot_4547', 124 bytes spill stores, 124 bytes spill loads\n",
      "\n",
      "2025-06-01 12:19:04.467503: I external/local_xla/xla/stream_executor/cuda/subprocess_compilation.cc:346] ptxas warning : Registers are spilled to local memory in function 'gemm_fusion_dot_19', 620 bytes spill stores, 620 bytes spill loads\n",
      "\n",
      "2025-06-01 12:19:04.879818: I external/local_xla/xla/stream_executor/cuda/subprocess_compilation.cc:346] ptxas warning : Registers are spilled to local memory in function 'gemm_fusion_dot_4547', 124 bytes spill stores, 124 bytes spill loads\n",
      "\n",
      "2025-06-01 12:19:05.094393: I external/local_xla/xla/stream_executor/cuda/subprocess_compilation.cc:346] ptxas warning : Registers are spilled to local memory in function 'gemm_fusion_dot_34', 184 bytes spill stores, 184 bytes spill loads\n",
      "\n",
      "2025-06-01 12:19:05.187750: I external/local_xla/xla/stream_executor/cuda/subprocess_compilation.cc:346] ptxas warning : Registers are spilled to local memory in function 'gemm_fusion_dot_34', 128 bytes spill stores, 128 bytes spill loads\n",
      "\n",
      "2025-06-01 12:19:05.240885: I external/local_xla/xla/stream_executor/cuda/subprocess_compilation.cc:346] ptxas warning : Registers are spilled to local memory in function 'gemm_fusion_dot_4547', 628 bytes spill stores, 628 bytes spill loads\n",
      "\n",
      "2025-06-01 12:19:05.255185: I external/local_xla/xla/stream_executor/cuda/subprocess_compilation.cc:346] ptxas warning : Registers are spilled to local memory in function 'gemm_fusion_dot_19', 120 bytes spill stores, 120 bytes spill loads\n",
      "\n"
     ]
    },
    {
     "name": "stdout",
     "output_type": "stream",
     "text": [
      "\u001b[1m99/99\u001b[0m \u001b[32m━━━━━━━━━━━━━━━━━━━━\u001b[0m\u001b[37m\u001b[0m \u001b[1m0s\u001b[0m 150ms/step - accuracy: 0.3509 - loss: 1.6118"
     ]
    },
    {
     "name": "stderr",
     "output_type": "stream",
     "text": [
      "2025-06-01 12:19:12.872110: I external/local_xla/xla/stream_executor/cuda/subprocess_compilation.cc:346] ptxas warning : Registers are spilled to local memory in function 'gemm_fusion_dot_9', 80 bytes spill stores, 80 bytes spill loads\n",
      "\n",
      "2025-06-01 12:19:12.902338: I external/local_xla/xla/stream_executor/cuda/subprocess_compilation.cc:346] ptxas warning : Registers are spilled to local memory in function 'gemm_fusion_dot_9', 12 bytes spill stores, 12 bytes spill loads\n",
      "\n",
      "2025-06-01 12:19:12.914888: I external/local_xla/xla/stream_executor/cuda/subprocess_compilation.cc:346] ptxas warning : Registers are spilled to local memory in function 'gemm_fusion_dot_9', 80 bytes spill stores, 80 bytes spill loads\n",
      "\n",
      "2025-06-01 12:19:13.207811: I external/local_xla/xla/stream_executor/cuda/subprocess_compilation.cc:346] ptxas warning : Registers are spilled to local memory in function 'gemm_fusion_dot_9', 400 bytes spill stores, 308 bytes spill loads\n",
      "\n",
      "2025-06-01 12:19:13.855530: I external/local_xla/xla/stream_executor/cuda/subprocess_compilation.cc:346] ptxas warning : Registers are spilled to local memory in function 'gemm_fusion_dot_9', 532 bytes spill stores, 400 bytes spill loads\n",
      "\n",
      "2025-06-01 12:19:13.874383: I external/local_xla/xla/stream_executor/cuda/subprocess_compilation.cc:346] ptxas warning : Registers are spilled to local memory in function 'gemm_fusion_dot_10', 540 bytes spill stores, 408 bytes spill loads\n",
      "\n",
      "2025-06-01 12:19:13.878254: I external/local_xla/xla/stream_executor/cuda/subprocess_compilation.cc:346] ptxas warning : Registers are spilled to local memory in function 'gemm_fusion_dot_10', 164 bytes spill stores, 164 bytes spill loads\n",
      "\n"
     ]
    },
    {
     "name": "stdout",
     "output_type": "stream",
     "text": [
      "\u001b[1m99/99\u001b[0m \u001b[32m━━━━━━━━━━━━━━━━━━━━\u001b[0m\u001b[37m\u001b[0m \u001b[1m36s\u001b[0m 196ms/step - accuracy: 0.3510 - loss: 1.6109 - val_accuracy: 0.2665 - val_loss: 1.1351\n",
      "Epoch 2/100\n",
      "\u001b[1m99/99\u001b[0m \u001b[32m━━━━━━━━━━━━━━━━━━━━\u001b[0m\u001b[37m\u001b[0m \u001b[1m1s\u001b[0m 5ms/step - accuracy: 0.3649 - loss: 1.4091 - val_accuracy: 0.4086 - val_loss: 1.0742\n",
      "Epoch 3/100\n",
      "\u001b[1m99/99\u001b[0m \u001b[32m━━━━━━━━━━━━━━━━━━━━\u001b[0m\u001b[37m\u001b[0m \u001b[1m1s\u001b[0m 5ms/step - accuracy: 0.4983 - loss: 1.0382 - val_accuracy: 0.7437 - val_loss: 0.6341\n",
      "Epoch 4/100\n",
      "\u001b[1m99/99\u001b[0m \u001b[32m━━━━━━━━━━━━━━━━━━━━\u001b[0m\u001b[37m\u001b[0m \u001b[1m0s\u001b[0m 5ms/step - accuracy: 0.7682 - loss: 0.5893 - val_accuracy: 0.7970 - val_loss: 0.5237\n",
      "Epoch 5/100\n",
      "\u001b[1m99/99\u001b[0m \u001b[32m━━━━━━━━━━━━━━━━━━━━\u001b[0m\u001b[37m\u001b[0m \u001b[1m1s\u001b[0m 5ms/step - accuracy: 0.8230 - loss: 0.4627 - val_accuracy: 0.8236 - val_loss: 0.5424\n",
      "Epoch 6/100\n",
      "\u001b[1m99/99\u001b[0m \u001b[32m━━━━━━━━━━━━━━━━━━━━\u001b[0m\u001b[37m\u001b[0m \u001b[1m1s\u001b[0m 5ms/step - accuracy: 0.8804 - loss: 0.3528 - val_accuracy: 0.6701 - val_loss: 1.0983\n",
      "Epoch 7/100\n",
      "\u001b[1m99/99\u001b[0m \u001b[32m━━━━━━━━━━━━━━━━━━━━\u001b[0m\u001b[37m\u001b[0m \u001b[1m1s\u001b[0m 5ms/step - accuracy: 0.9149 - loss: 0.2715 - val_accuracy: 0.8046 - val_loss: 0.6215\n",
      "Epoch 8/100\n",
      "\u001b[1m99/99\u001b[0m \u001b[32m━━━━━━━━━━━━━━━━━━━━\u001b[0m\u001b[37m\u001b[0m \u001b[1m0s\u001b[0m 5ms/step - accuracy: 0.9190 - loss: 0.2541 - val_accuracy: 0.8122 - val_loss: 0.6582\n",
      "Epoch 9/100\n",
      "\u001b[1m99/99\u001b[0m \u001b[32m━━━━━━━━━━━━━━━━━━━━\u001b[0m\u001b[37m\u001b[0m \u001b[1m1s\u001b[0m 5ms/step - accuracy: 0.9349 - loss: 0.1962 - val_accuracy: 0.7995 - val_loss: 0.7001\n",
      "Epoch 10/100\n",
      "\u001b[1m99/99\u001b[0m \u001b[32m━━━━━━━━━━━━━━━━━━━━\u001b[0m\u001b[37m\u001b[0m \u001b[1m1s\u001b[0m 5ms/step - accuracy: 0.9577 - loss: 0.1622 - val_accuracy: 0.7728 - val_loss: 0.9125\n"
     ]
    },
    {
     "data": {
      "text/plain": [
       "<keras.src.callbacks.history.History at 0x7f3150daefe0>"
      ]
     },
     "execution_count": 15,
     "metadata": {},
     "output_type": "execute_result"
    }
   ],
   "source": [
    "from tensorflow.keras.callbacks import EarlyStopping\n",
    "\n",
    "# Define EarlyStopping callback\n",
    "early_stop = EarlyStopping(\n",
    "    monitor='val_accuracy',  # Monitor validation accuracy\n",
    "    patience=5,              # Stop after 5 epochs with no improvement\n",
    "    restore_best_weights=True  # Restore the best model weights\n",
    ")\n",
    "\n",
    "# Train the model with EarlyStopping\n",
    "model.fit(\n",
    "    X_train, y_train,\n",
    "    batch_size=32,\n",
    "    epochs=100,\n",
    "    validation_data=(X_val, y_val),\n",
    "    callbacks=[early_stop]\n",
    ")"
   ]
  },
  {
   "cell_type": "markdown",
   "id": "83019ca7",
   "metadata": {},
   "source": [
    "### Testing"
   ]
  },
  {
   "cell_type": "code",
   "execution_count": 16,
   "id": "80b6bb2d",
   "metadata": {},
   "outputs": [
    {
     "data": {
      "text/plain": [
       "'gils cakep gilak aarrrghhh cinta puol sm shade bikin muka fresh'"
      ]
     },
     "execution_count": 16,
     "metadata": {},
     "output_type": "execute_result"
    }
   ],
   "source": [
    "idx = 900\n",
    "\n",
    "text_testing = combined_df['text_akhir'][idx]\n",
    "\n",
    "text_testing"
   ]
  },
  {
   "cell_type": "code",
   "execution_count": 17,
   "id": "a5eb3163",
   "metadata": {},
   "outputs": [
    {
     "data": {
      "text/plain": [
       "array([[2691,   73, 1460, 2692,   79, 1461,  155,   67,   44,  188,  596,\n",
       "           0,    0,    0,    0,    0,    0,    0,    0,    0,    0,    0,\n",
       "           0,    0,    0,    0,    0,    0,    0,    0,    0,    0,    0,\n",
       "           0,    0,    0,    0,    0,    0,    0,    0,    0,    0,    0,\n",
       "           0,    0,    0,    0,    0,    0,    0,    0,    0,    0,    0,\n",
       "           0,    0,    0,    0,    0,    0,    0,    0,    0,    0,    0,\n",
       "           0,    0,    0,    0,    0,    0,    0,    0,    0,    0,    0,\n",
       "           0,    0,    0,    0,    0,    0,    0,    0,    0,    0,    0,\n",
       "           0,    0,    0,    0,    0,    0,    0,    0,    0,    0,    0,\n",
       "           0]], dtype=int32)"
      ]
     },
     "execution_count": 17,
     "metadata": {},
     "output_type": "execute_result"
    }
   ],
   "source": [
    "# Convert to sequence using the same tokenizer\n",
    "test_seq = tokenizer.texts_to_sequences([text_testing])\n",
    "\n",
    "# Pad it to the same max length\n",
    "test_pad = pad_sequences(test_seq, maxlen=100, padding='post')\n",
    "\n",
    "test_pad"
   ]
  },
  {
   "cell_type": "code",
   "execution_count": 18,
   "id": "3a5711be",
   "metadata": {},
   "outputs": [
    {
     "name": "stderr",
     "output_type": "stream",
     "text": [
      "2025-06-01 12:19:21.108997: I external/local_xla/xla/stream_executor/cuda/subprocess_compilation.cc:346] ptxas warning : Registers are spilled to local memory in function 'gemm_fusion_dot_13', 80 bytes spill stores, 80 bytes spill loads\n",
      "\n",
      "2025-06-01 12:19:21.372158: I external/local_xla/xla/stream_executor/cuda/subprocess_compilation.cc:346] ptxas warning : Registers are spilled to local memory in function 'gemm_fusion_dot_9', 24 bytes spill stores, 24 bytes spill loads\n",
      "\n",
      "2025-06-01 12:19:21.862500: I external/local_xla/xla/stream_executor/cuda/subprocess_compilation.cc:346] ptxas warning : Registers are spilled to local memory in function 'gemm_fusion_dot_9', 36 bytes spill stores, 36 bytes spill loads\n",
      "\n",
      "2025-06-01 12:19:21.991859: I external/local_xla/xla/stream_executor/cuda/subprocess_compilation.cc:346] ptxas warning : Registers are spilled to local memory in function 'gemm_fusion_dot_8', 384 bytes spill stores, 384 bytes spill loads\n",
      "\n",
      "2025-06-01 12:19:22.031254: I external/local_xla/xla/stream_executor/cuda/subprocess_compilation.cc:346] ptxas warning : Registers are spilled to local memory in function 'gemm_fusion_dot_9', 24 bytes spill stores, 24 bytes spill loads\n",
      "\n",
      "2025-06-01 12:19:22.044411: I external/local_xla/xla/stream_executor/cuda/subprocess_compilation.cc:346] ptxas warning : Registers are spilled to local memory in function 'gemm_fusion_dot_13', 532 bytes spill stores, 400 bytes spill loads\n",
      "\n",
      "2025-06-01 12:19:22.233932: I external/local_xla/xla/stream_executor/cuda/subprocess_compilation.cc:346] ptxas warning : Registers are spilled to local memory in function 'gemm_fusion_dot_9', 472 bytes spill stores, 472 bytes spill loads\n",
      "\n"
     ]
    },
    {
     "name": "stdout",
     "output_type": "stream",
     "text": [
      "\u001b[1m1/1\u001b[0m \u001b[32m━━━━━━━━━━━━━━━━━━━━\u001b[0m\u001b[37m\u001b[0m \u001b[1m4s\u001b[0m 4s/step\n",
      "Predicted label index: 2\n",
      "Actual label: neutral\n"
     ]
    }
   ],
   "source": [
    "prediction = model.predict(test_pad)\n",
    "\n",
    "# Get class with highest probability\n",
    "predicted_class = np.argmax(prediction, axis=1)[0]\n",
    "print(f\"Predicted label index: {predicted_class}\")\n",
    "print(f\"Actual label: {combined_df['label'][idx]}\")"
   ]
  },
  {
   "cell_type": "markdown",
   "id": "e8f9e23a",
   "metadata": {},
   "source": [
    "# Evaluation"
   ]
  },
  {
   "cell_type": "code",
   "execution_count": 19,
   "id": "20d63d8d",
   "metadata": {},
   "outputs": [
    {
     "name": "stdout",
     "output_type": "stream",
     "text": [
      "\u001b[1m25/25\u001b[0m \u001b[32m━━━━━━━━━━━━━━━━━━━━\u001b[0m\u001b[37m\u001b[0m \u001b[1m1s\u001b[0m 28ms/step \n"
     ]
    }
   ],
   "source": [
    "# Predict class probabilities\n",
    "y_pred_probs = model.predict(X_val)\n",
    "\n",
    "# Get predicted class indices\n",
    "y_pred = np.argmax(y_pred_probs, axis=1)"
   ]
  },
  {
   "cell_type": "code",
   "execution_count": 20,
   "id": "e691a749",
   "metadata": {},
   "outputs": [],
   "source": [
    "y_val_true = y_val  # Already encoded if you split after encoding\n",
    "y_val_labels = label_encoder.inverse_transform(y_val_true)\n",
    "y_pred_labels = label_encoder.inverse_transform(y_pred)"
   ]
  },
  {
   "cell_type": "markdown",
   "id": "73a8487f",
   "metadata": {},
   "source": [
    "### Confusion Matrix"
   ]
  },
  {
   "cell_type": "code",
   "execution_count": 21,
   "id": "20e123db",
   "metadata": {},
   "outputs": [
    {
     "data": {
      "image/png": "[encoded data removed]",
      "text/plain": [
       "<Figure size 640x480 with 2 Axes>"
      ]
     },
     "metadata": {},
     "output_type": "display_data"
    }
   ],
   "source": [
    "from sklearn.metrics import confusion_matrix, ConfusionMatrixDisplay\n",
    "import matplotlib.pyplot as plt\n",
    "\n",
    "# If using encoded labels\n",
    "cm = confusion_matrix(y_val, y_pred)\n",
    "labels = label_encoder.classes_  # Use class names if available\n",
    "\n",
    "# Plot\n",
    "disp = ConfusionMatrixDisplay(confusion_matrix=cm, display_labels=labels)\n",
    "disp.plot(cmap=plt.cm.Blues)\n",
    "plt.title(\"Confusion Matrix\")\n",
    "plt.show()\n"
   ]
  },
  {
   "cell_type": "markdown",
   "id": "218f8fe6",
   "metadata": {},
   "source": [
    "### Classification Report"
   ]
  },
  {
   "cell_type": "code",
   "execution_count": 22,
   "id": "f227a990",
   "metadata": {},
   "outputs": [
    {
     "name": "stdout",
     "output_type": "stream",
     "text": [
      "              precision    recall  f1-score   support\n",
      "\n",
      "    negative       0.82      0.93      0.87       210\n",
      "     neutral       0.87      0.61      0.72       274\n",
      "    positive       0.80      0.94      0.87       304\n",
      "\n",
      "    accuracy                           0.82       788\n",
      "   macro avg       0.83      0.83      0.82       788\n",
      "weighted avg       0.83      0.82      0.82       788\n",
      "\n"
     ]
    }
   ],
   "source": [
    "print(classification_report(y_val, y_pred, target_names=label_encoder.classes_))"
   ]
  },
  {
   "cell_type": "markdown",
   "id": "a09e3cca",
   "metadata": {},
   "source": [
    "# Saving"
   ]
  },
  {
   "cell_type": "code",
   "execution_count": 23,
   "id": "a5142c5a",
   "metadata": {},
   "outputs": [],
   "source": [
    "# Save the entire model to a file\n",
    "model.save('sentiment_model.keras')"
   ]
  }
 ],
 "metadata": {
  "kernelspec": {
   "display_name": "py310",
   "language": "python",
   "name": "python3"
  },
  "language_info": {
   "codemirror_mode": {
    "name": "ipython",
    "version": 3
   },
   "file_extension": ".py",
   "mimetype": "text/x-python",
   "name": "python",
   "nbconvert_exporter": "python",
   "pygments_lexer": "ipython3",
   "version": "3.10.16"
  }
 },
 "nbformat": 4,
 "nbformat_minor": 5
}
