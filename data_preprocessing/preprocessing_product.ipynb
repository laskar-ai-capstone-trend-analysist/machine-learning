{
 "cells": [
  {
   "cell_type": "markdown",
   "id": "bdb3e494",
   "metadata": {},
   "source": [
    "# Import Libraries"
   ]
  },
  {
   "cell_type": "code",
   "execution_count": 14,
   "id": "0326e03e",
   "metadata": {},
   "outputs": [],
   "source": [
    "import os\n",
    "import pandas as pd"
   ]
  },
  {
   "cell_type": "markdown",
   "id": "586da84b",
   "metadata": {},
   "source": [
    "# Data Loading"
   ]
  },
  {
   "cell_type": "code",
   "execution_count": 15,
   "id": "5d8845f9",
   "metadata": {},
   "outputs": [],
   "source": [
    "def data_loading(root, category):\n",
    "    root_path = \"dataset\"\n",
    "    folder_path = os.path.join(root_path, category)\n",
    "\n",
    "    # Load product list (assumes it's named {category}.csv)\n",
    "    product_list_path = os.path.join(folder_path, f\"{category}.csv\")\n",
    "    product_df = pd.read_csv(product_list_path)\n",
    "\n",
    "    return product_df"
   ]
  },
  {
   "cell_type": "code",
   "execution_count": 16,
   "id": "7ec44f1c",
   "metadata": {},
   "outputs": [
    {
     "name": "stdout",
     "output_type": "stream",
     "text": [
      "['Elektronik', 'Aksesoris', 'Kesehatan', 'Kecantikan', 'Alas_kaki', 'Pakaian_Pria', 'Pakaian_Wanita']\n"
     ]
    }
   ],
   "source": [
    "root_path = \"dataset\"\n",
    "\n",
    "# List all CSV files in the folder\n",
    "category_names = [f for f in os.listdir(root_path)]\n",
    "\n",
    "print(category_names)"
   ]
  },
  {
   "cell_type": "code",
   "execution_count": 17,
   "id": "3e48e20d",
   "metadata": {},
   "outputs": [],
   "source": [
    "all_dfs = {\n",
    "    name: data_loading(root_path, category)\n",
    "    for name, category in zip(category_names, category_names)\n",
    "}"
   ]
  },
  {
   "cell_type": "code",
   "execution_count": 18,
   "id": "2167b1c2",
   "metadata": {},
   "outputs": [
    {
     "name": "stdout",
     "output_type": "stream",
     "text": [
      "<class 'pandas.core.frame.DataFrame'>\n",
      "RangeIndex: 38 entries, 0 to 37\n",
      "Data columns (total 6 columns):\n",
      " #   Column          Non-Null Count  Dtype \n",
      "---  ------          --------------  ----- \n",
      " 0   Product Name    38 non-null     object\n",
      " 1   Current Price   38 non-null     object\n",
      " 2   Original Price  38 non-null     object\n",
      " 3   Image URL       38 non-null     object\n",
      " 4   Stock           38 non-null     object\n",
      " 5   item_id         38 non-null     int64 \n",
      "dtypes: int64(1), object(5)\n",
      "memory usage: 1.9+ KB\n"
     ]
    }
   ],
   "source": [
    "all_dfs['Elektronik'].info()"
   ]
  },
  {
   "cell_type": "code",
   "execution_count": 19,
   "id": "cf1663be",
   "metadata": {},
   "outputs": [
    {
     "data": {
      "text/html": [
       "<div>\n",
       "<style scoped>\n",
       "    .dataframe tbody tr th:only-of-type {\n",
       "        vertical-align: middle;\n",
       "    }\n",
       "\n",
       "    .dataframe tbody tr th {\n",
       "        vertical-align: top;\n",
       "    }\n",
       "\n",
       "    .dataframe thead th {\n",
       "        text-align: right;\n",
       "    }\n",
       "</style>\n",
       "<table border=\"1\" class=\"dataframe\">\n",
       "  <thead>\n",
       "    <tr style=\"text-align: right;\">\n",
       "      <th></th>\n",
       "      <th>Product Name</th>\n",
       "      <th>Current Price</th>\n",
       "      <th>Original Price</th>\n",
       "      <th>Image URL</th>\n",
       "      <th>Stock</th>\n",
       "      <th>item_id</th>\n",
       "    </tr>\n",
       "  </thead>\n",
       "  <tbody>\n",
       "    <tr>\n",
       "      <th>0</th>\n",
       "      <td>Infinix GT 20 Pro 5G | Infinix GT 30 Pro 5G [8...</td>\n",
       "      <td>Rp3.999.000</td>\n",
       "      <td>-</td>\n",
       "      <td>https://images.tokopedia.net/img/cache/500-squ...</td>\n",
       "      <td>Sisa3</td>\n",
       "      <td>1</td>\n",
       "    </tr>\n",
       "    <tr>\n",
       "      <th>1</th>\n",
       "      <td>[Hot] itel P55 5G RAM 6+128GB - 5G Network - 5...</td>\n",
       "      <td>Rp1.299.000</td>\n",
       "      <td>Rp1.999.000</td>\n",
       "      <td>https://images.tokopedia.net/img/cache/500-squ...</td>\n",
       "      <td>5.447</td>\n",
       "      <td>2</td>\n",
       "    </tr>\n",
       "    <tr>\n",
       "      <th>2</th>\n",
       "      <td>Xiaomi POCO X6 Pro 5G 12/512 12/256 GB Garansi...</td>\n",
       "      <td>Rp3.554.000</td>\n",
       "      <td>Rp4.099.000</td>\n",
       "      <td>https://images.tokopedia.net/img/cache/500-squ...</td>\n",
       "      <td>Habis</td>\n",
       "      <td>3</td>\n",
       "    </tr>\n",
       "    <tr>\n",
       "      <th>3</th>\n",
       "      <td>vivo iQOO 13 (12/256) - 1st Snapdragon 8 elite...</td>\n",
       "      <td>Rp9.999.000</td>\n",
       "      <td>-</td>\n",
       "      <td>https://images.tokopedia.net/img/cache/500-squ...</td>\n",
       "      <td>64</td>\n",
       "      <td>4</td>\n",
       "    </tr>\n",
       "    <tr>\n",
       "      <th>4</th>\n",
       "      <td>Tecno Spark Go 1 4/128 4/64 Garansi Resmi New ...</td>\n",
       "      <td>Rp1.029.000</td>\n",
       "      <td>-</td>\n",
       "      <td>https://images.tokopedia.net/img/cache/500-squ...</td>\n",
       "      <td>30</td>\n",
       "      <td>5</td>\n",
       "    </tr>\n",
       "  </tbody>\n",
       "</table>\n",
       "</div>"
      ],
      "text/plain": [
       "                                        Product Name Current Price  \\\n",
       "0  Infinix GT 20 Pro 5G | Infinix GT 30 Pro 5G [8...   Rp3.999.000   \n",
       "1  [Hot] itel P55 5G RAM 6+128GB - 5G Network - 5...   Rp1.299.000   \n",
       "2  Xiaomi POCO X6 Pro 5G 12/512 12/256 GB Garansi...   Rp3.554.000   \n",
       "3  vivo iQOO 13 (12/256) - 1st Snapdragon 8 elite...   Rp9.999.000   \n",
       "4  Tecno Spark Go 1 4/128 4/64 Garansi Resmi New ...   Rp1.029.000   \n",
       "\n",
       "  Original Price                                          Image URL  Stock  \\\n",
       "0              -  https://images.tokopedia.net/img/cache/500-squ...  Sisa3   \n",
       "1    Rp1.999.000  https://images.tokopedia.net/img/cache/500-squ...  5.447   \n",
       "2    Rp4.099.000  https://images.tokopedia.net/img/cache/500-squ...  Habis   \n",
       "3              -  https://images.tokopedia.net/img/cache/500-squ...     64   \n",
       "4              -  https://images.tokopedia.net/img/cache/500-squ...     30   \n",
       "\n",
       "   item_id  \n",
       "0        1  \n",
       "1        2  \n",
       "2        3  \n",
       "3        4  \n",
       "4        5  "
      ]
     },
     "execution_count": 19,
     "metadata": {},
     "output_type": "execute_result"
    }
   ],
   "source": [
    "all_dfs['Elektronik'].head()"
   ]
  },
  {
   "cell_type": "markdown",
   "id": "16e9a34b",
   "metadata": {},
   "source": [
    "# Preprocessing"
   ]
  },
  {
   "cell_type": "code",
   "execution_count": 20,
   "id": "955f167a",
   "metadata": {},
   "outputs": [],
   "source": [
    "def parse_rupiah_to_int(value):\n",
    "    \"\"\"\n",
    "    Converts price or stock strings like '578 rb', '5.447', 'Sisa 3', 'Habis' to int.\n",
    "    \"\"\"\n",
    "    if pd.isna(value):\n",
    "        return 0\n",
    "\n",
    "    s = str(value).lower().strip()\n",
    "\n",
    "    # Handle sold out or empty\n",
    "    if s in ['-', 'habis', '']:\n",
    "        return 0\n",
    "\n",
    "    # Remove non-digit except '.' and ',' and 'rb' or 'k'\n",
    "    # Check if it contains 'rb' or 'k' as thousand indicator\n",
    "    if 'rb' in s:\n",
    "        # Remove 'rb' and convert to int * 1000\n",
    "        num_part = s.replace('rb', '').replace(',', '').strip()\n",
    "        try:\n",
    "            return int(float(num_part) * 1000)\n",
    "        except ValueError:\n",
    "            return 0\n",
    "    elif 'k' in s:\n",
    "        # same for 'k'\n",
    "        num_part = s.replace('k', '').replace(',', '').strip()\n",
    "        try:\n",
    "            return int(float(num_part) * 1000)\n",
    "        except ValueError:\n",
    "            return 0\n",
    "    else:\n",
    "        # Just remove dots and commas then convert\n",
    "        num_part = s.replace('sisa', '').replace('.', '').replace(',', '').strip()\n",
    "        try:\n",
    "            return int(num_part)\n",
    "        except ValueError:\n",
    "            return 0\n",
    "\n",
    "# Apply for prices (which may not have 'rb' but just in case)\n",
    "def clean_price(price):\n",
    "    if pd.isna(price):\n",
    "        return 0\n",
    "    s = str(price).lower().strip()\n",
    "    if s == '-' or s == '':\n",
    "        return 0\n",
    "    # Remove Rp and apply parse_rupiah_to_int\n",
    "    s = s.replace('rp', '').strip()\n",
    "    return parse_rupiah_to_int(s)"
   ]
  },
  {
   "cell_type": "code",
   "execution_count": 21,
   "id": "8ba2e3c2",
   "metadata": {},
   "outputs": [
    {
     "name": "stdout",
     "output_type": "stream",
     "text": [
      "Category: Elektronik\n",
      "Category: Aksesoris\n",
      "Category: Kesehatan\n",
      "Category: Kecantikan\n",
      "Category: Alas_kaki\n",
      "Category: Pakaian_Pria\n",
      "Category: Pakaian_Wanita\n"
     ]
    }
   ],
   "source": [
    "for name, df in all_dfs.items():\n",
    "    print(f\"Category: {name}\")\n",
    "    # Now apply cleaning\n",
    "    df['Current Price'] = df['Current Price'].apply(clean_price)\n",
    "    df['Original Price'] = df['Original Price'].apply(clean_price)\n",
    "    df['Stock'] = df['Stock'].apply(parse_rupiah_to_int)\n",
    "\n",
    "    # Calculate discount percentage\n",
    "    df['discount'] = df.apply(\n",
    "        lambda row: round((1 - row['Current Price'] / row['Original Price']) * 100, 2)\n",
    "        if row['Original Price'] > 0 else 0,\n",
    "        axis=1\n",
    "    )"
   ]
  },
  {
   "cell_type": "code",
   "execution_count": 22,
   "id": "5575cf7e",
   "metadata": {},
   "outputs": [
    {
     "data": {
      "text/html": [
       "<div>\n",
       "<style scoped>\n",
       "    .dataframe tbody tr th:only-of-type {\n",
       "        vertical-align: middle;\n",
       "    }\n",
       "\n",
       "    .dataframe tbody tr th {\n",
       "        vertical-align: top;\n",
       "    }\n",
       "\n",
       "    .dataframe thead th {\n",
       "        text-align: right;\n",
       "    }\n",
       "</style>\n",
       "<table border=\"1\" class=\"dataframe\">\n",
       "  <thead>\n",
       "    <tr style=\"text-align: right;\">\n",
       "      <th></th>\n",
       "      <th>Product Name</th>\n",
       "      <th>Current Price</th>\n",
       "      <th>Original Price</th>\n",
       "      <th>Image URL</th>\n",
       "      <th>Stock</th>\n",
       "      <th>item_id</th>\n",
       "      <th>discount</th>\n",
       "    </tr>\n",
       "  </thead>\n",
       "  <tbody>\n",
       "    <tr>\n",
       "      <th>0</th>\n",
       "      <td>Infinix GT 20 Pro 5G | Infinix GT 30 Pro 5G [8...</td>\n",
       "      <td>3999000</td>\n",
       "      <td>0</td>\n",
       "      <td>https://images.tokopedia.net/img/cache/500-squ...</td>\n",
       "      <td>3</td>\n",
       "      <td>1</td>\n",
       "      <td>0.00</td>\n",
       "    </tr>\n",
       "    <tr>\n",
       "      <th>1</th>\n",
       "      <td>[Hot] itel P55 5G RAM 6+128GB - 5G Network - 5...</td>\n",
       "      <td>1299000</td>\n",
       "      <td>1999000</td>\n",
       "      <td>https://images.tokopedia.net/img/cache/500-squ...</td>\n",
       "      <td>5447</td>\n",
       "      <td>2</td>\n",
       "      <td>35.02</td>\n",
       "    </tr>\n",
       "    <tr>\n",
       "      <th>2</th>\n",
       "      <td>Xiaomi POCO X6 Pro 5G 12/512 12/256 GB Garansi...</td>\n",
       "      <td>3554000</td>\n",
       "      <td>4099000</td>\n",
       "      <td>https://images.tokopedia.net/img/cache/500-squ...</td>\n",
       "      <td>0</td>\n",
       "      <td>3</td>\n",
       "      <td>13.30</td>\n",
       "    </tr>\n",
       "    <tr>\n",
       "      <th>3</th>\n",
       "      <td>vivo iQOO 13 (12/256) - 1st Snapdragon 8 elite...</td>\n",
       "      <td>9999000</td>\n",
       "      <td>0</td>\n",
       "      <td>https://images.tokopedia.net/img/cache/500-squ...</td>\n",
       "      <td>64</td>\n",
       "      <td>4</td>\n",
       "      <td>0.00</td>\n",
       "    </tr>\n",
       "    <tr>\n",
       "      <th>4</th>\n",
       "      <td>Tecno Spark Go 1 4/128 4/64 Garansi Resmi New ...</td>\n",
       "      <td>1029000</td>\n",
       "      <td>0</td>\n",
       "      <td>https://images.tokopedia.net/img/cache/500-squ...</td>\n",
       "      <td>30</td>\n",
       "      <td>5</td>\n",
       "      <td>0.00</td>\n",
       "    </tr>\n",
       "  </tbody>\n",
       "</table>\n",
       "</div>"
      ],
      "text/plain": [
       "                                        Product Name  Current Price  \\\n",
       "0  Infinix GT 20 Pro 5G | Infinix GT 30 Pro 5G [8...        3999000   \n",
       "1  [Hot] itel P55 5G RAM 6+128GB - 5G Network - 5...        1299000   \n",
       "2  Xiaomi POCO X6 Pro 5G 12/512 12/256 GB Garansi...        3554000   \n",
       "3  vivo iQOO 13 (12/256) - 1st Snapdragon 8 elite...        9999000   \n",
       "4  Tecno Spark Go 1 4/128 4/64 Garansi Resmi New ...        1029000   \n",
       "\n",
       "   Original Price                                          Image URL  Stock  \\\n",
       "0               0  https://images.tokopedia.net/img/cache/500-squ...      3   \n",
       "1         1999000  https://images.tokopedia.net/img/cache/500-squ...   5447   \n",
       "2         4099000  https://images.tokopedia.net/img/cache/500-squ...      0   \n",
       "3               0  https://images.tokopedia.net/img/cache/500-squ...     64   \n",
       "4               0  https://images.tokopedia.net/img/cache/500-squ...     30   \n",
       "\n",
       "   item_id  discount  \n",
       "0        1      0.00  \n",
       "1        2     35.02  \n",
       "2        3     13.30  \n",
       "3        4      0.00  \n",
       "4        5      0.00  "
      ]
     },
     "execution_count": 22,
     "metadata": {},
     "output_type": "execute_result"
    }
   ],
   "source": [
    "all_dfs['Elektronik'].head()"
   ]
  },
  {
   "cell_type": "markdown",
   "id": "f5fec0e8",
   "metadata": {},
   "source": [
    "#  Save"
   ]
  },
  {
   "cell_type": "code",
   "execution_count": 23,
   "id": "8a946803",
   "metadata": {},
   "outputs": [
    {
     "name": "stdout",
     "output_type": "stream",
     "text": [
      "Saved: dataset_preprocessed/Elektronik/Elektronik.csv\n",
      "Saved: dataset_preprocessed/Aksesoris/Aksesoris.csv\n",
      "Saved: dataset_preprocessed/Kesehatan/Kesehatan.csv\n",
      "Saved: dataset_preprocessed/Kecantikan/Kecantikan.csv\n",
      "Saved: dataset_preprocessed/Alas_kaki/Alas_kaki.csv\n",
      "Saved: dataset_preprocessed/Pakaian_Pria/Pakaian_Pria.csv\n",
      "Saved: dataset_preprocessed/Pakaian_Wanita/Pakaian_Wanita.csv\n"
     ]
    }
   ],
   "source": [
    "for name, df in all_dfs.items():\n",
    "    output_dir = os.path.join(\"dataset_preprocessed\", name)\n",
    "    os.makedirs(output_dir, exist_ok=True)  # Create directory if it doesn't exist\n",
    "\n",
    "    output_path = os.path.join(output_dir, f\"{name}.csv\")\n",
    "    df.to_csv(output_path, index=False)\n",
    "    print(f\"Saved: {output_path}\")"
   ]
  }
 ],
 "metadata": {
  "kernelspec": {
   "display_name": "py310",
   "language": "python",
   "name": "python3"
  },
  "language_info": {
   "codemirror_mode": {
    "name": "ipython",
    "version": 3
   },
   "file_extension": ".py",
   "mimetype": "text/x-python",
   "name": "python",
   "nbconvert_exporter": "python",
   "pygments_lexer": "ipython3",
   "version": "3.10.16"
  }
 },
 "nbformat": 4,
 "nbformat_minor": 5
}
